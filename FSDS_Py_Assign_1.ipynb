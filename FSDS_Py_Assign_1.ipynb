{
 "cells": [
  {
   "cell_type": "markdown",
   "metadata": {
    "id": "cyOfbWCdOjEr"
   },
   "source": [
    "# ASSIGNMENTS - Compulsory\n",
    "## Send it before 0000 hrs IST or 12 AM Wednesday\n",
    "\n",
    "## NOTE: Evaluation will be done before next class.\n",
    "\n",
    "## HOW TO SUBMIT: -\n",
    "Download this notebook, Solve it and upload in the google form given in the mail."
   ]
  },
  {
   "cell_type": "markdown",
   "metadata": {
    "id": "s9T5GrbJlqca"
   },
   "source": []
  },
  {
   "cell_type": "markdown",
   "metadata": {
    "id": "gcovAbjnl4dB"
   },
   "source": [
    "\n",
    "1. What is indentation error? Why indentation is important? Give one simple example?\n"
   ]
  },
  {
   "cell_type": "markdown",
   "metadata": {
    "id": "PyycVATJl6Q-"
   },
   "source": [
    "### To compile the code properly without getting any error, by giving the proper space ( may be 2 or 4 spaces ) while writing a loop or a block of code is a indentation error."
   ]
  },
  {
   "cell_type": "code",
   "execution_count": 3,
   "metadata": {
    "colab": {
     "base_uri": "https://localhost:8080/",
     "height": 130
    },
    "id": "d18QuqqPmqi3",
    "outputId": "1deeeac2-d434-4cbd-8618-6596cd41b152",
    "scrolled": true
   },
   "outputs": [
    {
     "ename": "IndentationError",
     "evalue": "unexpected indent (<ipython-input-3-95ca1b7fc3f4>, line 2)",
     "output_type": "error",
     "traceback": [
      "\u001b[1;36m  File \u001b[1;32m\"<ipython-input-3-95ca1b7fc3f4>\"\u001b[1;36m, line \u001b[1;32m2\u001b[0m\n\u001b[1;33m    print(a)\u001b[0m\n\u001b[1;37m    ^\u001b[0m\n\u001b[1;31mIndentationError\u001b[0m\u001b[1;31m:\u001b[0m unexpected indent\n"
     ]
    }
   ],
   "source": [
    "a= \"Hi\"\n",
    "  print(a)"
   ]
  },
  {
   "cell_type": "code",
   "execution_count": 4,
   "metadata": {},
   "outputs": [
    {
     "name": "stdout",
     "output_type": "stream",
     "text": [
      "Hi\n"
     ]
    }
   ],
   "source": [
    "# correction\n",
    "\n",
    "a=\"Hi\"\n",
    "print(a)"
   ]
  },
  {
   "cell_type": "markdown",
   "metadata": {
    "id": "Dxl60w6CnTtJ"
   },
   "source": [
    "2. Correct the following code and write the comment where you made the correction?\n",
    "\n",
    "  ```python\n",
    "  class_started = bool(input(\"Hey friend, is class started?: [0-False/1-True]\"))\n",
    "\n",
    "  if class_started:\n",
    "      print(\"Since class started...\")\n",
    "      print(\"Lets concentrate\")\n",
    "  else:\n",
    "      print(\"Since class is not started...\")\n",
    "      print(\"let's revise\")    \n",
    "  ```\n",
    "\n",
    "  **HINT:** Refer your data type conversion class"
   ]
  },
  {
   "cell_type": "code",
   "execution_count": 5,
   "metadata": {
    "colab": {
     "base_uri": "https://localhost:8080/"
    },
    "id": "fCanLwF7nWwk",
    "outputId": "b08293e2-df71-4bc8-eb29-193eecfe4163"
   },
   "outputs": [
    {
     "name": "stdout",
     "output_type": "stream",
     "text": [
      "Hey friend, is class started?: [0-False/1-True]0\n",
      "Since class is not started...\n",
      "let's revise\n"
     ]
    }
   ],
   "source": [
    "class_started = eval(input(\"Hey friend, is class started?: [0-False/1-True]\")) \n",
    "## add eval which evaluate the input and gets the ans.\n",
    "\n",
    "if  class_started :\n",
    "      print(\"Since class started...\")\n",
    "      print(\"Lets concentrate\")\n",
    "else:\n",
    "      print(\"Since class is not started...\")\n",
    "      print(\"let's revise\")"
   ]
  },
  {
   "cell_type": "markdown",
   "metadata": {
    "id": "ob9CIF8Qyz7m"
   },
   "source": [
    "3. Use if else condition to verify that dataype of `input()` method in python is always string."
   ]
  },
  {
   "cell_type": "code",
   "execution_count": 6,
   "metadata": {
    "id": "HfPFd5MLy6eT"
   },
   "outputs": [
    {
     "name": "stdout",
     "output_type": "stream",
     "text": [
      "Place your sentence :hey, how are you ?\n",
      "<class 'str'>\n",
      "hey, how are you ? is a string\n"
     ]
    }
   ],
   "source": [
    "string_inp = input(\"Place your sentence :\")\n",
    "\n",
    "if type(string_inp) == str:\n",
    "  print(type(string_inp))\n",
    "  print(f\"{string_inp} is a string\")\n",
    "else:\n",
    "  print(\"I am not a string\")"
   ]
  },
  {
   "cell_type": "markdown",
   "metadata": {
    "id": "du8GLeFp0cHT"
   },
   "source": [
    "4. Take 3 variables and assign integer values to them. Find the largest variable, by only using the if and else conditions."
   ]
  },
  {
   "cell_type": "code",
   "execution_count": 7,
   "metadata": {
    "colab": {
     "base_uri": "https://localhost:8080/"
    },
    "id": "_3QwaIDF0drT",
    "outputId": "9aeb4116-1ce2-45c1-9f0a-3794c84c3167"
   },
   "outputs": [
    {
     "name": "stdout",
     "output_type": "stream",
     "text": [
      "B is greater\n"
     ]
    }
   ],
   "source": [
    "a= 8085\n",
    "b= 8831\n",
    "c= 4236\n",
    "\n",
    "if a < b:\n",
    "  if b < c:\n",
    "    print(\"C is greater\")\n",
    "  else:\n",
    "    print(\"B is greater\")\n",
    "else:\n",
    "  print(\"A is greater\")\n"
   ]
  },
  {
   "cell_type": "markdown",
   "metadata": {
    "id": "dbYOUrhV3FCZ"
   },
   "source": [
    "5. What would be the solution?\n",
    "    1. True\n",
    "    2. False\n",
    "\n",
    "    ```python\n",
    "    a = 6\n",
    "    b = 10\n",
    "    print( not ( not a == 10 or not b == 10) )\n",
    "    ```"
   ]
  },
  {
   "cell_type": "markdown",
   "metadata": {
    "id": "NihccpnS3Ltt"
   },
   "source": [
    "Ans : False"
   ]
  },
  {
   "cell_type": "markdown",
   "metadata": {
    "id": "GT4IytkJMNa-"
   },
   "source": [
    "\n",
    "\n",
    "\n",
    "\n",
    "\n",
    "\n",
    "\n",
    "\n",
    "\n",
    "\n",
    "\n",
    "    \n",
    "6. Find the answer as well as find out the reason behind the result? -\n",
    "    - case 1:\n",
    "        ```python\n",
    "        A = 5.0\n",
    "        B = 10/2\n",
    "        print(A is B)\n",
    "        ```\n",
    "    - case 2:\n",
    "        ```python\n",
    "        A = 5.0\n",
    "        B = int(10/2)\n",
    "        print(A is B)\n",
    "        ```\n",
    "    - case 3:\n",
    "        ```python\n",
    "        A = 5.0\n",
    "        B = float(10/2)\n",
    "        print(A is B)\n",
    "        ```"
   ]
  },
  {
   "cell_type": "code",
   "execution_count": 11,
   "metadata": {
    "colab": {
     "base_uri": "https://localhost:8080/",
     "height": 70
    },
    "id": "pzde_Y1glVb_",
    "outputId": "5f3ab11d-7f0f-44cd-a190-1018c7ba348c"
   },
   "outputs": [
    {
     "name": "stdout",
     "output_type": "stream",
     "text": [
      "False\n"
     ]
    },
    {
     "data": {
      "text/plain": [
       "'A is floating type number with base 10 where as B is arithmatic operation with base 2 thats why the value is False. \\nPython only prints a decimal approximation to the true decimal value of the binary approximation stored by the machine.\\n'"
      ]
     },
     "execution_count": 11,
     "metadata": {},
     "output_type": "execute_result"
    }
   ],
   "source": [
    "# Case 1\n",
    "\n",
    "A= 5.0\n",
    "B= 10/2\n",
    "\n",
    "print(A is B)\n",
    "\n",
    "\"\"\"A is floating type number with base 10 where as B is arithmatic operation with base 2 thats why the value is False. \n",
    "Python only prints a decimal approximation to the true decimal value of the binary approximation stored by the machine.\n",
    "\"\"\""
   ]
  },
  {
   "cell_type": "code",
   "execution_count": null,
   "metadata": {
    "colab": {
     "base_uri": "https://localhost:8080/"
    },
    "id": "eY_zlRyWcdnM",
    "outputId": "dd9d8523-029f-413b-c63f-060608486c33"
   },
   "outputs": [
    {
     "name": "stdout",
     "output_type": "stream",
     "text": [
      "False\n"
     ]
    }
   ],
   "source": [
    "# Case 2\n",
    "A = 5.0\n",
    "B = int(10/2)\n",
    "print(A is B)\n",
    "\n",
    "\"\"\"\n",
    "A is floating type number with base 10 and B is type casted to integer with base 2 so it is printed as False\n",
    "\"\"\""
   ]
  },
  {
   "cell_type": "code",
   "execution_count": null,
   "metadata": {
    "colab": {
     "base_uri": "https://localhost:8080/",
     "height": 53
    },
    "id": "bbixXpV3cvFU",
    "outputId": "31973739-71ae-460f-b611-bf23a8361dac"
   },
   "outputs": [
    {
     "name": "stdout",
     "output_type": "stream",
     "text": [
      "False\n"
     ]
    },
    {
     "data": {
      "application/vnd.google.colaboratory.intrinsic+json": {
       "type": "string"
      },
      "text/plain": [
       "'\\nthe arithmatic expression is of base 2 and is converted to float type . Same as case 1 \\n\\n'"
      ]
     },
     "execution_count": 10,
     "metadata": {},
     "output_type": "execute_result"
    }
   ],
   "source": [
    "A = 5.0\n",
    "B = float(10/2)\n",
    "print(A is B)\n",
    "\"\"\"\n",
    "the arithmatic expression is of base 2 and is converted to float type . Same as case 1 \n",
    "\n",
    "\"\"\""
   ]
  },
  {
   "cell_type": "markdown",
   "metadata": {
    "id": "a_4kbBVWNY-4"
   },
   "source": [
    "### Try to understand the following examples and answer the question based on it - \n",
    "    \n",
    "**Arithmatic Operators**\n",
    "\n",
    "|Operation|Meaning|\n",
    "|:-:|:-:|\n",
    "| **+** |addition|\n",
    "| **-** |subtraction|\n",
    "| **\\*** |multiplication|\n",
    "| **/** |true division|\n",
    "| **//** |integer division|\n",
    "| **%** |the modulo operator|\n",
    "\n",
    "\n",
    "Here `+`, `-`, `*`, `/` are regular arithmatic operators. Lets look at the `//` and `%` operators\n",
    "\n",
    "Usecase or examples - \n",
    "    \n",
    "```python\n",
    "var_a = 5\n",
    "var_b = 25\n",
    "integer_division = var_b // var_a\n",
    "print(f\"integer division: {var_b}/{var_a}={integer_division}\")\n",
    "```\n",
    "\n",
    "OUTPUT: integer division: 25/5=5\n",
    "\n",
    "```python\n",
    "var_a = 3\n",
    "var_b = 25\n",
    "integer_division = var_b // var_a\n",
    "print(f\"integer division: {var_b}/{var_a}={integer_division}\")\n",
    "```\n",
    "\n",
    "OUTPUT: integer division: 25/3=8\n",
    "\n",
    "```python\n",
    "var_a = 5\n",
    "var_b = 25\n",
    "remainder = var_b % var_a\n",
    "print(f\"remainder: {var_b}/{var_a} is {remainder}\")\n",
    "```\n",
    "\n",
    "OUTPUT: remainder: 25/5 is 0\n",
    "\n",
    "```python\n",
    "var_a = 3\n",
    "var_b = 25\n",
    "remainder = var_b % var_a\n",
    "print(f\"remainder: {var_b}/{var_a} is {remainder}\")\n",
    "```\n",
    "\n",
    "OUTPUT: remainder: 25/3 is 1\n",
    "\n"
   ]
  },
  {
   "cell_type": "markdown",
   "metadata": {
    "id": "z8JVFnm0d19B"
   },
   "source": [
    "\n",
    "7. Write a program that asks the user to enter a number. You should print out a message to the user, either “That number is divisible by either 3 or 5”, or “That number is not divisible by either 3 or 5”. Be sure to consider the data type of the input you are taking in from the user. Use a single if/else block to solve this problem."
   ]
  },
  {
   "cell_type": "code",
   "execution_count": 12,
   "metadata": {
    "colab": {
     "base_uri": "https://localhost:8080/"
    },
    "id": "ucOvr5H8d4Cf",
    "outputId": "57b6ff81-819b-4872-a6e4-9a1620c2d762"
   },
   "outputs": [
    {
     "name": "stdout",
     "output_type": "stream",
     "text": [
      "Please enter the number to check for the divisibility by 3 or 5 : 15\n",
      "The number is either divisible by 3 or 5\n"
     ]
    }
   ],
   "source": [
    "number = int(input(\"Please enter the number to check for the divisibility by 3 or 5 : \"))\n",
    "\n",
    "if number % 3 ==0  or number % 5 == 0:\n",
    "  print(\"The number is either divisible by 3 or 5\")\n",
    "else:\n",
    "  print(\"The number is not divisble by 3 or 5\")"
   ]
  },
  {
   "cell_type": "markdown",
   "metadata": {
    "id": "2pqcWfdeezi8"
   },
   "source": [
    "8. Take user input for length and width. Then calculate the area of rectangle. Also print as per length and width whether its a square of rectangle."
   ]
  },
  {
   "cell_type": "code",
   "execution_count": 15,
   "metadata": {
    "colab": {
     "base_uri": "https://localhost:8080/"
    },
    "id": "FKEL-LZze3Lp",
    "outputId": "0875e559-ce62-409c-aed9-3b77e5e4bbba"
   },
   "outputs": [
    {
     "name": "stdout",
     "output_type": "stream",
     "text": [
      "Please enter the length in metres: 15\n",
      "Please enter the width in metres: 15\n",
      "As the length 15 metre and width 15 metres are same so it is a square\n"
     ]
    }
   ],
   "source": [
    "length = int(input(\"Please enter the length in metres: \"))\n",
    "width = int(input(\"Please enter the width in metres: \"))\n",
    "\n",
    "area= length * width\n",
    "\n",
    "if (length == width):\n",
    "  print(f\"As the length {length} metre and width {width} metres are same so it is a square\")\n",
    "\n",
    "else:\n",
    "  print(f\"The area of the rectangle with length {length} metres and width {width} metres is : {area} sq. metres\")\n"
   ]
  },
  {
   "cell_type": "markdown",
   "metadata": {
    "id": "4F4GEQpWf7hq"
   },
   "source": [
    "\n",
    "9. Take two variable radius_1 and radius_2 and calculate the area of circle_1 and circle_2. Also print which circle has large area. If area is equal then print area is equal."
   ]
  },
  {
   "cell_type": "code",
   "execution_count": 19,
   "metadata": {},
   "outputs": [
    {
     "name": "stdout",
     "output_type": "stream",
     "text": [
      "Enter Radius of Circle 1 :15\n",
      "Enter Radius of Circle 2 :20\n",
      "Area of Circle 2 : 1256 is greater than Area of Circle 1 : 706\n"
     ]
    }
   ],
   "source": [
    "import math\n",
    "\n",
    "rad_1 = int(input(\"Enter Radius of Circle 1 :\"))\n",
    "rad_2 = int(input(\"Enter Radius of Circle 2 :\"))\n",
    "\n",
    "area_c1 = int(math.pi*(rad_1**2))\n",
    "area_c2 = int(math.pi*(rad_2**2))\n",
    "\n",
    "\n",
    "if area_c1 > area_c2:\n",
    "    print(f\"Area of Circle 1 : {area_c1} is greater than Area of Circle 2 : {area_c2}\")\n",
    "else:\n",
    "    print(f\"Area of Circle 2 : {area_c2} is greater than Area of Circle 1 : {area_c1}\")"
   ]
  },
  {
   "cell_type": "markdown",
   "metadata": {
    "id": "mZDDaS29hoJL"
   },
   "source": [
    "10. Check whether a year is leap year or not. Use nested if...else to solve this problem. A leap year is exactly divisible by 4 except for century years (years ending with 00). The century year is a leap year only if it is perfectly divisible by 400."
   ]
  },
  {
   "cell_type": "code",
   "execution_count": 20,
   "metadata": {
    "colab": {
     "base_uri": "https://localhost:8080/"
    },
    "id": "Y29TBfN8hs4O",
    "outputId": "046af3d0-6382-4cdd-9c49-bddf0e0888fe"
   },
   "outputs": [
    {
     "name": "stdout",
     "output_type": "stream",
     "text": [
      "Enter the value : 2100\n",
      "Not a leap year\n"
     ]
    }
   ],
   "source": [
    "leap_year = int(input(\"Enter the value : \"))\n",
    "\n",
    "if leap_year % 4 == 0 :\n",
    "  if leap_year % 400 ==0:\n",
    "    print(\"It is a leap year\")\n",
    "  else:\n",
    "    print(\"Not a leap year\")\n",
    "else:\n",
    "  print(\"It is not a leap year\")"
   ]
  }
 ],
 "metadata": {
  "colab": {
   "collapsed_sections": [],
   "provenance": []
  },
  "kernelspec": {
   "display_name": "Python 3",
   "language": "python",
   "name": "python3"
  },
  "language_info": {
   "codemirror_mode": {
    "name": "ipython",
    "version": 3
   },
   "file_extension": ".py",
   "mimetype": "text/x-python",
   "name": "python",
   "nbconvert_exporter": "python",
   "pygments_lexer": "ipython3",
   "version": "3.8.3"
  }
 },
 "nbformat": 4,
 "nbformat_minor": 1
}
